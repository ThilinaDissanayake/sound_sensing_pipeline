{
 "cells": [
  {
   "cell_type": "code",
   "execution_count": 2,
   "metadata": {},
   "outputs": [],
   "source": [
    "import numpy as np\n",
    "from scipy.spatial.distance import euclidean\n",
    "\n",
    "from fastdtw import fastdtw"
   ]
  },
  {
   "cell_type": "code",
   "execution_count": 3,
   "metadata": {},
   "outputs": [
    {
     "name": "stdout",
     "output_type": "stream",
     "text": [
      "2.82842712475\n"
     ]
    }
   ],
   "source": [
    "x = np.array([[1,1], [2,2], [3,3], [4,4], [5,5]])\n",
    "y = np.array([[2,2], [3,3], [4,4]])\n",
    "distance, path = fastdtw(x, y, dist=euclidean)\n",
    "print(distance)"
   ]
  },
  {
   "cell_type": "code",
   "execution_count": 4,
   "metadata": {},
   "outputs": [
    {
     "name": "stdout",
     "output_type": "stream",
     "text": [
      "0\n",
      "2\n",
      "1\n",
      "3\n",
      "0\n",
      "1\n",
      "2\n",
      "3\n",
      "4\n"
     ]
    }
   ],
   "source": [
    "import tkinter as tk\n",
    "\n",
    "root = tk.Tk()\n",
    "\n",
    "v = tk.IntVar()\n",
    "v.set(1)  # initializing the choice, i.e. Python\n",
    "\n",
    "languages = [\n",
    "    (\"Python\",1),\n",
    "    (\"Perl\",2),\n",
    "    (\"Java\",3),\n",
    "    (\"C++\",4),\n",
    "    (\"C\",5)\n",
    "]\n",
    "\n",
    "def ShowChoice():\n",
    "    print(v.get())\n",
    "\n",
    "tk.Label(root, \n",
    "         text=\"\"\"Choose your favourite \n",
    "programming language:\"\"\",\n",
    "         justify = tk.LEFT,\n",
    "         padx = 20).pack()\n",
    "\n",
    "for val, language in enumerate(languages):\n",
    "    tk.Radiobutton(root, \n",
    "                  text=language,\n",
    "                  padx = 20, \n",
    "                  variable=v, \n",
    "                  command=ShowChoice,\n",
    "                  value=val).pack(anchor=tk.W)\n",
    "\n",
    "\n",
    "root.mainloop()"
   ]
  },
  {
   "cell_type": "code",
   "execution_count": 5,
   "metadata": {},
   "outputs": [],
   "source": [
    "from tkinter import *\n",
    "master = Tk()\n",
    "var1 = IntVar()\n",
    "Checkbutton(master, text=\"male\", variable=var1).grid(row=0, sticky=W)\n",
    "var2 = IntVar()\n",
    "Checkbutton(master, text=\"female\", variable=var2).grid(row=1, sticky=W)\n",
    "mainloop()"
   ]
  },
  {
   "cell_type": "code",
   "execution_count": 8,
   "metadata": {},
   "outputs": [
    {
     "name": "stdout",
     "output_type": "stream",
     "text": [
      "2019/08/26\n",
      "2019/08/26\n"
     ]
    }
   ],
   "source": [
    "import numpy\n",
    "import scipy.io.wavfile\n",
    "from scipy.fftpack import dct\n",
    "import matplotlib.pyplot as plt\n",
    "import matplotlib.image as mpimg\n",
    "from matplotlib import cm\n",
    "from pylab import *\n",
    "import os\n",
    "import pandas as pd\n",
    "import gc\n",
    "from scipy.signal import blackman\n",
    "import csv\n",
    "from scipy.io import wavfile\n",
    "import wave\n",
    "from struct import pack\n",
    "import plotly,plotly as py\n",
    "from dtw import dtw\n",
    "from numpy.linalg import norm\n",
    "from datetime import datetime\n",
    "from datetime import timedelta\n",
    "import ipywidgets as widgets\n",
    "#from numba import vectorize\n",
    "\n",
    "gc.enable()\n",
    "\n",
    "data_path = \"data/\"\n",
    "date = \"20181205\"\n",
    "stereo_path = \"stereo/\"\n",
    "vector_path = \"vector/\"\n",
    "visual_path = \"visual/\"\n",
    "\n",
    "video_start = '20190826' #YYYYMMDD\n",
    "video_end = '20190826' #YYYYMMDD\n",
    "temp_video_start = video_start[0:4] + \"/\" + video_start[4:6] + \"/\" +video_start[6:8]\n",
    "temp_video_end = video_end[0:4] + \"/\" + video_end[4:6] + \"/\" +video_end[6:8]\n",
    "print temp_video_start\n",
    "print temp_video_end\n",
    "\n",
    "video_startdatte = datetime.strptime(temp_video_start,'%Y/%m/%d')\n",
    "video_enddate = datetime.strptime(temp_video_end,'%Y/%m/%d')\n",
    "\n",
    "directory_list = ['cloth','metal','paper','plastic','porcelain','wood']\n",
    "\n",
    "for mat in directory_list:\n",
    "    if not os.path.exists(visual_path+mat):\n",
    "        os.makedirs(visual_path+mat)\n",
    "        \n",
    "#material = \"porcelain/\""
   ]
  },
  {
   "cell_type": "code",
   "execution_count": 9,
   "metadata": {},
   "outputs": [
    {
     "name": "stdout",
     "output_type": "stream",
     "text": [
      "The data sessions taken during the start and end dates\n",
      "( 1 ) \t2019-08-26 16:05:36.324000 - 2019-08-26 16:05:43.954000\n",
      "( 2 ) \t2019-08-26 16:11:03.772000 - 2019-08-26 16:12:31.567000\n",
      "( 3 ) \t2019-08-26 16:14:30.164000 - 2019-08-26 16:16:04.835000\n",
      "( 4 ) \t2019-08-26 16:17:09.249000 - 2019-08-26 16:18:51.379000\n",
      "( 5 ) \t2019-08-26 16:20:17.415000 - 2019-08-26 16:22:01.720000\n",
      "( 6 ) \t2019-08-26 16:22:48.485000 - 2019-08-26 16:24:32.531000\n",
      "( 7 ) \t2019-08-26 16:25:14.031000 - 2019-08-26 16:26:58.725000\n",
      "( 8 ) \t2019-08-26 16:29:13.155000 - 2019-08-26 16:31:01.483000\n",
      "( 9 ) \t2019-08-26 16:31:45.397000 - 2019-08-26 16:33:36.481000\n",
      "( 10 ) \t2019-08-26 16:34:13.925000 - 2019-08-26 16:35:58.836000\n",
      "( 11 ) \t2019-08-26 16:38:41.449000 - 2019-08-26 16:40:49.280000\n",
      "( 12 ) \t2019-08-26 16:41:49.692000 - 2019-08-26 16:43:29.009000\n",
      "( 13 ) \t2019-08-26 16:44:09.857000 - 2019-08-26 16:45:46.133000\n",
      "Please input the session number. Confirm the start and end times using the video.\n",
      "Session \n",
      "You have chosen the session  \n"
     ]
    }
   ],
   "source": [
    "session_list = []\n",
    "with open('data/capture_time.csv') as csvfile: #read session data from capture_time.csv\n",
    "    readCSV = csv.reader(csvfile, delimiter='-')\n",
    "    line_no = 0\n",
    "    print \"The data sessions taken during the start and end dates\"\n",
    "    for row in readCSV:\n",
    "        if row[0] != '' and row[1] != '': #Check if both start and end times of each row exists\n",
    "            starttime = datetime.strptime(row[0],'%Y/%m/%d %H:%M:%S.%f')\n",
    "            endtime = datetime.strptime(row[1],'%Y/%m/%d %H:%M:%S.%f')\n",
    "            #print starttime.date()\n",
    "            if starttime.date() == video_startdatte.date() and endtime.date() == video_enddate.date(): #Check if sessions available which matches the startdate and enddate\n",
    "                line_no = line_no + 1\n",
    "                print \"(\", line_no, \")\", \"\\t\", starttime, \"-\", endtime\n",
    "                session_list.append(row[0] + \"-\" + row[1])\n",
    "\n",
    "print \"Please input the session number. Confirm the start and end times using the video.\"\n",
    "session = raw_input(\"Session \") \n",
    "print \"You have chosen the session \", session"
   ]
  },
  {
   "cell_type": "code",
   "execution_count": 10,
   "metadata": {},
   "outputs": [
    {
     "data": {
      "text/plain": [
       "['2019/08/26 16:05:36.324-2019/08/26 16:05:43.954',\n",
       " '2019/08/26 16:11:03.772-2019/08/26 16:12:31.567',\n",
       " '2019/08/26 16:14:30.164-2019/08/26 16:16:04.835',\n",
       " '2019/08/26 16:17:09.249-2019/08/26 16:18:51.379',\n",
       " '2019/08/26 16:20:17.415-2019/08/26 16:22:01.720',\n",
       " '2019/08/26 16:22:48.485-2019/08/26 16:24:32.531',\n",
       " '2019/08/26 16:25:14.031-2019/08/26 16:26:58.725',\n",
       " '2019/08/26 16:29:13.155-2019/08/26 16:31:01.483',\n",
       " '2019/08/26 16:31:45.397-2019/08/26 16:33:36.481',\n",
       " '2019/08/26 16:34:13.925-2019/08/26 16:35:58.836',\n",
       " '2019/08/26 16:38:41.449-2019/08/26 16:40:49.280',\n",
       " '2019/08/26 16:41:49.692-2019/08/26 16:43:29.009',\n",
       " '2019/08/26 16:44:09.857-2019/08/26 16:45:46.133']"
      ]
     },
     "execution_count": 10,
     "metadata": {},
     "output_type": "execute_result"
    }
   ],
   "source": [
    "session_list"
   ]
  },
  {
   "cell_type": "code",
   "execution_count": 11,
   "metadata": {},
   "outputs": [
    {
     "ename": "AttributeError",
     "evalue": "'NoneType' object has no attribute '_root'",
     "output_type": "error",
     "traceback": [
      "\u001b[0;31m---------------------------------------------------------------------------\u001b[0m",
      "\u001b[0;31mAttributeError\u001b[0m                            Traceback (most recent call last)",
      "\u001b[0;32m<ipython-input-11-65f07cfd8b87>\u001b[0m in \u001b[0;36m<module>\u001b[0;34m()\u001b[0m\n\u001b[1;32m      4\u001b[0m \u001b[0;34m\u001b[0m\u001b[0m\n\u001b[1;32m      5\u001b[0m \u001b[0;32mfor\u001b[0m \u001b[0mi\u001b[0m \u001b[0;32min\u001b[0m \u001b[0mrange\u001b[0m\u001b[0;34m(\u001b[0m\u001b[0;36m0\u001b[0m\u001b[0;34m,\u001b[0m\u001b[0;36m5\u001b[0m\u001b[0;34m)\u001b[0m\u001b[0;34m:\u001b[0m\u001b[0;34m\u001b[0m\u001b[0m\n\u001b[0;32m----> 6\u001b[0;31m     \u001b[0mvar1\u001b[0m \u001b[0;34m=\u001b[0m \u001b[0mIntVar\u001b[0m\u001b[0;34m(\u001b[0m\u001b[0;34m)\u001b[0m\u001b[0;34m\u001b[0m\u001b[0m\n\u001b[0m\u001b[1;32m      7\u001b[0m     \u001b[0mCheckbutton\u001b[0m\u001b[0;34m(\u001b[0m\u001b[0mmaster\u001b[0m\u001b[0;34m,\u001b[0m \u001b[0mtext\u001b[0m\u001b[0;34m=\u001b[0m\u001b[0;34m\"male\"\u001b[0m\u001b[0;34m,\u001b[0m \u001b[0mvariable\u001b[0m\u001b[0;34m=\u001b[0m\u001b[0mvar1\u001b[0m\u001b[0;34m)\u001b[0m\u001b[0;34m.\u001b[0m\u001b[0mgrid\u001b[0m\u001b[0;34m(\u001b[0m\u001b[0mrow\u001b[0m\u001b[0;34m=\u001b[0m\u001b[0;36m0\u001b[0m\u001b[0;34m,\u001b[0m \u001b[0msticky\u001b[0m\u001b[0;34m=\u001b[0m\u001b[0mW\u001b[0m\u001b[0;34m)\u001b[0m\u001b[0;34m\u001b[0m\u001b[0m\n\u001b[1;32m      8\u001b[0m     \u001b[0mvar2\u001b[0m \u001b[0;34m=\u001b[0m \u001b[0mIntVar\u001b[0m\u001b[0;34m(\u001b[0m\u001b[0;34m)\u001b[0m\u001b[0;34m\u001b[0m\u001b[0m\n",
      "\u001b[0;32m/home/thilina/anaconda2/lib/python2.7/lib-tk/Tkinter.pyc\u001b[0m in \u001b[0;36m__init__\u001b[0;34m(self, master, value, name)\u001b[0m\n\u001b[1;32m    361\u001b[0m         \u001b[0mthen\u001b[0m \u001b[0mthe\u001b[0m \u001b[0mexisting\u001b[0m \u001b[0mvalue\u001b[0m \u001b[0;32mis\u001b[0m \u001b[0mretained\u001b[0m\u001b[0;34m.\u001b[0m\u001b[0;34m\u001b[0m\u001b[0m\n\u001b[1;32m    362\u001b[0m         \"\"\"\n\u001b[0;32m--> 363\u001b[0;31m         \u001b[0mVariable\u001b[0m\u001b[0;34m.\u001b[0m\u001b[0m__init__\u001b[0m\u001b[0;34m(\u001b[0m\u001b[0mself\u001b[0m\u001b[0;34m,\u001b[0m \u001b[0mmaster\u001b[0m\u001b[0;34m,\u001b[0m \u001b[0mvalue\u001b[0m\u001b[0;34m,\u001b[0m \u001b[0mname\u001b[0m\u001b[0;34m)\u001b[0m\u001b[0;34m\u001b[0m\u001b[0m\n\u001b[0m\u001b[1;32m    364\u001b[0m \u001b[0;34m\u001b[0m\u001b[0m\n\u001b[1;32m    365\u001b[0m     \u001b[0;32mdef\u001b[0m \u001b[0mset\u001b[0m\u001b[0;34m(\u001b[0m\u001b[0mself\u001b[0m\u001b[0;34m,\u001b[0m \u001b[0mvalue\u001b[0m\u001b[0;34m)\u001b[0m\u001b[0;34m:\u001b[0m\u001b[0;34m\u001b[0m\u001b[0m\n",
      "\u001b[0;32m/home/thilina/anaconda2/lib/python2.7/lib-tk/Tkinter.pyc\u001b[0m in \u001b[0;36m__init__\u001b[0;34m(self, master, value, name)\u001b[0m\n\u001b[1;32m    239\u001b[0m         \u001b[0;32mif\u001b[0m \u001b[0;32mnot\u001b[0m \u001b[0mmaster\u001b[0m\u001b[0;34m:\u001b[0m\u001b[0;34m\u001b[0m\u001b[0m\n\u001b[1;32m    240\u001b[0m             \u001b[0mmaster\u001b[0m \u001b[0;34m=\u001b[0m \u001b[0m_default_root\u001b[0m\u001b[0;34m\u001b[0m\u001b[0m\n\u001b[0;32m--> 241\u001b[0;31m         \u001b[0mself\u001b[0m\u001b[0;34m.\u001b[0m\u001b[0m_root\u001b[0m \u001b[0;34m=\u001b[0m \u001b[0mmaster\u001b[0m\u001b[0;34m.\u001b[0m\u001b[0m_root\u001b[0m\u001b[0;34m(\u001b[0m\u001b[0;34m)\u001b[0m\u001b[0;34m\u001b[0m\u001b[0m\n\u001b[0m\u001b[1;32m    242\u001b[0m         \u001b[0mself\u001b[0m\u001b[0;34m.\u001b[0m\u001b[0m_tk\u001b[0m \u001b[0;34m=\u001b[0m \u001b[0mmaster\u001b[0m\u001b[0;34m.\u001b[0m\u001b[0mtk\u001b[0m\u001b[0;34m\u001b[0m\u001b[0m\n\u001b[1;32m    243\u001b[0m         \u001b[0;32mif\u001b[0m \u001b[0mname\u001b[0m\u001b[0;34m:\u001b[0m\u001b[0;34m\u001b[0m\u001b[0m\n",
      "\u001b[0;31mAttributeError\u001b[0m: 'NoneType' object has no attribute '_root'"
     ]
    }
   ],
   "source": [
    "var = []\n",
    "\n",
    "master = Tk()\n",
    "\n",
    "for i in range(0,5):\n",
    "    var1 = IntVar()\n",
    "    Checkbutton(master, text=\"male\", variable=var1).grid(row=0, sticky=W)\n",
    "    var2 = IntVar()\n",
    "    Checkbutton(master, text=\"female\", variable=var2).grid(row=1, sticky=W)\n",
    "    mainloop()"
   ]
  },
  {
   "cell_type": "code",
   "execution_count": 12,
   "metadata": {},
   "outputs": [
    {
     "name": "stdout",
     "output_type": "stream",
     "text": [
      "variable is True\n"
     ]
    },
    {
     "name": "stderr",
     "output_type": "stream",
     "text": [
      "Exception AttributeError: \"IntVar instance has no attribute '_tk'\" in <bound method IntVar.__del__ of <Tkinter.IntVar instance at 0x7f17900cc878>> ignored\n"
     ]
    },
    {
     "ename": "KeyboardInterrupt",
     "evalue": "",
     "output_type": "error",
     "traceback": [
      "\u001b[0;31m---------------------------------------------------------------------------\u001b[0m",
      "\u001b[0;31mKeyboardInterrupt\u001b[0m                         Traceback (most recent call last)",
      "\u001b[0;32m<ipython-input-12-6a386d31306d>\u001b[0m in \u001b[0;36m<module>\u001b[0;34m()\u001b[0m\n\u001b[1;32m     11\u001b[0m \u001b[0mc\u001b[0m\u001b[0;34m.\u001b[0m\u001b[0mpack\u001b[0m\u001b[0;34m(\u001b[0m\u001b[0;34m)\u001b[0m\u001b[0;34m\u001b[0m\u001b[0m\n\u001b[1;32m     12\u001b[0m \u001b[0;34m\u001b[0m\u001b[0m\n\u001b[0;32m---> 13\u001b[0;31m \u001b[0mmainloop\u001b[0m\u001b[0;34m(\u001b[0m\u001b[0;34m)\u001b[0m\u001b[0;34m\u001b[0m\u001b[0m\n\u001b[0m",
      "\u001b[0;32m/home/thilina/anaconda2/lib/python2.7/lib-tk/Tkinter.pyc\u001b[0m in \u001b[0;36mmainloop\u001b[0;34m(n)\u001b[0m\n\u001b[1;32m    417\u001b[0m \u001b[0;32mdef\u001b[0m \u001b[0mmainloop\u001b[0m\u001b[0;34m(\u001b[0m\u001b[0mn\u001b[0m\u001b[0;34m=\u001b[0m\u001b[0;36m0\u001b[0m\u001b[0;34m)\u001b[0m\u001b[0;34m:\u001b[0m\u001b[0;34m\u001b[0m\u001b[0m\n\u001b[1;32m    418\u001b[0m     \u001b[0;34m\"\"\"Run the main loop of Tcl.\"\"\"\u001b[0m\u001b[0;34m\u001b[0m\u001b[0m\n\u001b[0;32m--> 419\u001b[0;31m     \u001b[0m_default_root\u001b[0m\u001b[0;34m.\u001b[0m\u001b[0mtk\u001b[0m\u001b[0;34m.\u001b[0m\u001b[0mmainloop\u001b[0m\u001b[0;34m(\u001b[0m\u001b[0mn\u001b[0m\u001b[0;34m)\u001b[0m\u001b[0;34m\u001b[0m\u001b[0m\n\u001b[0m\u001b[1;32m    420\u001b[0m \u001b[0;34m\u001b[0m\u001b[0m\n\u001b[1;32m    421\u001b[0m \u001b[0mgetint\u001b[0m \u001b[0;34m=\u001b[0m \u001b[0mint\u001b[0m\u001b[0;34m\u001b[0m\u001b[0m\n",
      "\u001b[0;31mKeyboardInterrupt\u001b[0m: "
     ]
    }
   ],
   "source": [
    "from Tkinter import *\n",
    "\n",
    "master = Tk()\n",
    "\n",
    "var = BooleanVar()\n",
    "\n",
    "def cb():\n",
    "    print \"variable is {0}\".format(var.get())\n",
    "\n",
    "c = Checkbutton(master, text=\"Press me\", variable=var, command=cb)\n",
    "c.pack()\n",
    "\n",
    "mainloop()"
   ]
  },
  {
   "cell_type": "code",
   "execution_count": 30,
   "metadata": {},
   "outputs": [
    {
     "ename": "UnboundLocalError",
     "evalue": "local variable 'cb' referenced before assignment",
     "output_type": "error",
     "traceback": [
      "\u001b[0;31m---------------------------------------------------------------------------\u001b[0m",
      "\u001b[0;31mUnboundLocalError\u001b[0m                         Traceback (most recent call last)",
      "\u001b[0;32m<ipython-input-30-53b5aa83e733>\u001b[0m in \u001b[0;36m<module>\u001b[0;34m()\u001b[0m\n\u001b[1;32m     33\u001b[0m \u001b[0;34m\u001b[0m\u001b[0m\n\u001b[1;32m     34\u001b[0m     \u001b[0mroot\u001b[0m \u001b[0;34m=\u001b[0m \u001b[0mtk\u001b[0m\u001b[0;34m.\u001b[0m\u001b[0mTk\u001b[0m\u001b[0;34m(\u001b[0m\u001b[0;34m)\u001b[0m\u001b[0;34m\u001b[0m\u001b[0m\n\u001b[0;32m---> 35\u001b[0;31m     \u001b[0mExample\u001b[0m\u001b[0;34m(\u001b[0m\u001b[0mroot\u001b[0m\u001b[0;34m)\u001b[0m\u001b[0;34m.\u001b[0m\u001b[0mpack\u001b[0m\u001b[0;34m(\u001b[0m\u001b[0mside\u001b[0m\u001b[0;34m=\u001b[0m\u001b[0;34m\"top\"\u001b[0m\u001b[0;34m,\u001b[0m \u001b[0mfill\u001b[0m\u001b[0;34m=\u001b[0m\u001b[0;34m\"both\"\u001b[0m\u001b[0;34m,\u001b[0m \u001b[0mexpand\u001b[0m\u001b[0;34m=\u001b[0m\u001b[0mTrue\u001b[0m\u001b[0;34m)\u001b[0m\u001b[0;34m\u001b[0m\u001b[0m\n\u001b[0m\u001b[1;32m     36\u001b[0m     \u001b[0mroot\u001b[0m\u001b[0;34m.\u001b[0m\u001b[0mmainloop\u001b[0m\u001b[0;34m(\u001b[0m\u001b[0;34m)\u001b[0m\u001b[0;34m\u001b[0m\u001b[0m\n",
      "\u001b[0;32m<ipython-input-30-53b5aa83e733>\u001b[0m in \u001b[0;36m__init__\u001b[0;34m(self, root, *args, **kwargs)\u001b[0m\n\u001b[1;32m     21\u001b[0m \u001b[0;34m\u001b[0m\u001b[0m\n\u001b[1;32m     22\u001b[0m         \u001b[0;32mfor\u001b[0m \u001b[0mi\u001b[0m \u001b[0;32min\u001b[0m \u001b[0mrange\u001b[0m\u001b[0;34m(\u001b[0m\u001b[0mlen\u001b[0m\u001b[0;34m(\u001b[0m\u001b[0msession_list\u001b[0m\u001b[0;34m)\u001b[0m\u001b[0;34m)\u001b[0m\u001b[0;34m:\u001b[0m\u001b[0;34m\u001b[0m\u001b[0m\n\u001b[0;32m---> 23\u001b[0;31m             \u001b[0mcb\u001b[0m \u001b[0;34m=\u001b[0m \u001b[0mtk\u001b[0m\u001b[0;34m.\u001b[0m\u001b[0mCheckbutton\u001b[0m\u001b[0;34m(\u001b[0m\u001b[0mself\u001b[0m\u001b[0;34m,\u001b[0m \u001b[0mtext\u001b[0m\u001b[0;34m=\u001b[0m\u001b[0;34m\"(\"\u001b[0m\u001b[0;34m+\u001b[0m\u001b[0mstr\u001b[0m\u001b[0;34m(\u001b[0m\u001b[0mi\u001b[0m\u001b[0;34m+\u001b[0m\u001b[0;36m1\u001b[0m\u001b[0;34m)\u001b[0m\u001b[0;34m+\u001b[0m\u001b[0;34m\") \"\u001b[0m\u001b[0;34m+\u001b[0m\u001b[0msession_list\u001b[0m\u001b[0;34m[\u001b[0m\u001b[0mi\u001b[0m\u001b[0;34m]\u001b[0m\u001b[0;34m,\u001b[0m \u001b[0mvariable\u001b[0m\u001b[0;34m=\u001b[0m\u001b[0mvar\u001b[0m\u001b[0;34m,\u001b[0m \u001b[0mcommand\u001b[0m\u001b[0;34m=\u001b[0m\u001b[0mcb\u001b[0m\u001b[0;34m)\u001b[0m\u001b[0;34m\u001b[0m\u001b[0m\n\u001b[0m\u001b[1;32m     24\u001b[0m             \u001b[0mself\u001b[0m\u001b[0;34m.\u001b[0m\u001b[0mtext\u001b[0m\u001b[0;34m.\u001b[0m\u001b[0mwindow_create\u001b[0m\u001b[0;34m(\u001b[0m\u001b[0;34m\"end\"\u001b[0m\u001b[0;34m,\u001b[0m \u001b[0mwindow\u001b[0m\u001b[0;34m=\u001b[0m\u001b[0mcb\u001b[0m\u001b[0;34m)\u001b[0m\u001b[0;34m\u001b[0m\u001b[0m\n\u001b[1;32m     25\u001b[0m             \u001b[0mself\u001b[0m\u001b[0;34m.\u001b[0m\u001b[0mtext\u001b[0m\u001b[0;34m.\u001b[0m\u001b[0minsert\u001b[0m\u001b[0;34m(\u001b[0m\u001b[0;34m\"end\"\u001b[0m\u001b[0;34m,\u001b[0m \u001b[0;34m\"\\n\"\u001b[0m\u001b[0;34m)\u001b[0m \u001b[0;31m# to force one checkbox per line\u001b[0m\u001b[0;34m\u001b[0m\u001b[0m\n",
      "\u001b[0;31mUnboundLocalError\u001b[0m: local variable 'cb' referenced before assignment"
     ]
    }
   ],
   "source": [
    "import Tkinter as tk\n",
    "\n",
    "var = BooleanVar()\n",
    "\n",
    "\n",
    "\n",
    "\n",
    "class Example(tk.Frame):\n",
    "\n",
    "    \n",
    "    def __init__(self, root, *args, **kwargs):\n",
    "        tk.Frame.__init__(self, root, *args, **kwargs)\n",
    "        self.root = root\n",
    "\n",
    "        self.vsb = tk.Scrollbar(self, orient=\"vertical\")\n",
    "        self.text = tk.Text(self, width=55, height=30, \n",
    "                            yscrollcommand=self.vsb.set)\n",
    "        self.vsb.config(command=self.text.yview)\n",
    "        self.vsb.pack(side=\"right\", fill=\"y\")\n",
    "        self.text.pack(side=\"left\", fill=\"both\", expand=True)\n",
    "\n",
    "        for i in range(len(session_list)):\n",
    "            cb = tk.Checkbutton(self, text=\"(\"+str(i+1)+\") \"+session_list[i], variable=var, command=cb)\n",
    "            self.text.window_create(\"end\", window=cb)\n",
    "            self.text.insert(\"end\", \"\\n\") # to force one checkbox per line\n",
    "\n",
    "if __name__ == \"__main__\":\n",
    "    \n",
    "        \n",
    "    def cb():\n",
    "        print \"variable is {0}\".format(var.get())\n",
    "        \n",
    "        \n",
    "    root = tk.Tk()\n",
    "    Example(root).pack(side=\"top\", fill=\"both\", expand=True)\n",
    "    root.mainloop()"
   ]
  },
  {
   "cell_type": "code",
   "execution_count": null,
   "metadata": {},
   "outputs": [],
   "source": []
  }
 ],
 "metadata": {
  "kernelspec": {
   "display_name": "Python 2",
   "language": "python",
   "name": "python2"
  },
  "language_info": {
   "codemirror_mode": {
    "name": "ipython",
    "version": 2
   },
   "file_extension": ".py",
   "mimetype": "text/x-python",
   "name": "python",
   "nbconvert_exporter": "python",
   "pygments_lexer": "ipython2",
   "version": "2.7.13"
  }
 },
 "nbformat": 4,
 "nbformat_minor": 2
}
